{
 "cells": [
  {
   "cell_type": "code",
   "execution_count": 55,
   "metadata": {},
   "outputs": [],
   "source": [
    "import pandas as pd\n",
    "import numpy as np\n",
    "import matplotlib.pyplot as plt"
   ]
  },
  {
   "cell_type": "markdown",
   "metadata": {
    "tags": []
   },
   "source": [
    "# CFAD\n",
    "Faire tourner le script `stats_for_CFADs.py`\n",
    "\n",
    "**La conversion en pickle est bien mieux que csv car elle permet le stockage des valeurs pol sous forme de array dans le dataframe**"
   ]
  },
  {
   "cell_type": "code",
   "execution_count": 56,
   "metadata": {
    "tags": []
   },
   "outputs": [
    {
     "data": {
      "text/html": [
       "<div>\n",
       "<style scoped>\n",
       "    .dataframe tbody tr th:only-of-type {\n",
       "        vertical-align: middle;\n",
       "    }\n",
       "\n",
       "    .dataframe tbody tr th {\n",
       "        vertical-align: top;\n",
       "    }\n",
       "\n",
       "    .dataframe thead th {\n",
       "        text-align: right;\n",
       "    }\n",
       "</style>\n",
       "<table border=\"1\" class=\"dataframe\">\n",
       "  <thead>\n",
       "    <tr style=\"text-align: right;\">\n",
       "      <th></th>\n",
       "      <th>altitude</th>\n",
       "      <th>varname</th>\n",
       "      <th>dataType</th>\n",
       "      <th>Q5</th>\n",
       "      <th>Q25</th>\n",
       "      <th>Q50</th>\n",
       "      <th>Q75</th>\n",
       "      <th>Q95</th>\n",
       "    </tr>\n",
       "  </thead>\n",
       "  <tbody>\n",
       "    <tr>\n",
       "      <th>0</th>\n",
       "      <td>0</td>\n",
       "      <td>Zh</td>\n",
       "      <td>Arome_ICE3</td>\n",
       "      <td>3.812265</td>\n",
       "      <td>15.714110</td>\n",
       "      <td>26.381033</td>\n",
       "      <td>34.424892</td>\n",
       "      <td>42.660191</td>\n",
       "    </tr>\n",
       "    <tr>\n",
       "      <th>1</th>\n",
       "      <td>500</td>\n",
       "      <td>Zh</td>\n",
       "      <td>Arome_ICE3</td>\n",
       "      <td>3.475648</td>\n",
       "      <td>14.805388</td>\n",
       "      <td>25.841341</td>\n",
       "      <td>34.746984</td>\n",
       "      <td>43.083604</td>\n",
       "    </tr>\n",
       "    <tr>\n",
       "      <th>2</th>\n",
       "      <td>1000</td>\n",
       "      <td>Zh</td>\n",
       "      <td>Arome_ICE3</td>\n",
       "      <td>3.500866</td>\n",
       "      <td>14.774945</td>\n",
       "      <td>25.692104</td>\n",
       "      <td>34.986061</td>\n",
       "      <td>43.210061</td>\n",
       "    </tr>\n",
       "    <tr>\n",
       "      <th>3</th>\n",
       "      <td>1500</td>\n",
       "      <td>Zh</td>\n",
       "      <td>Arome_ICE3</td>\n",
       "      <td>3.575427</td>\n",
       "      <td>14.687407</td>\n",
       "      <td>25.409227</td>\n",
       "      <td>34.963732</td>\n",
       "      <td>43.486061</td>\n",
       "    </tr>\n",
       "    <tr>\n",
       "      <th>4</th>\n",
       "      <td>2000</td>\n",
       "      <td>Zh</td>\n",
       "      <td>Arome_ICE3</td>\n",
       "      <td>3.888595</td>\n",
       "      <td>15.251649</td>\n",
       "      <td>25.615467</td>\n",
       "      <td>35.207497</td>\n",
       "      <td>43.863414</td>\n",
       "    </tr>\n",
       "    <tr>\n",
       "      <th>...</th>\n",
       "      <td>...</td>\n",
       "      <td>...</td>\n",
       "      <td>...</td>\n",
       "      <td>...</td>\n",
       "      <td>...</td>\n",
       "      <td>...</td>\n",
       "      <td>...</td>\n",
       "      <td>...</td>\n",
       "    </tr>\n",
       "    <tr>\n",
       "      <th>115</th>\n",
       "      <td>12500</td>\n",
       "      <td>Zh</td>\n",
       "      <td>MesoNH_LIMH</td>\n",
       "      <td>NaN</td>\n",
       "      <td>NaN</td>\n",
       "      <td>NaN</td>\n",
       "      <td>NaN</td>\n",
       "      <td>NaN</td>\n",
       "    </tr>\n",
       "    <tr>\n",
       "      <th>116</th>\n",
       "      <td>13000</td>\n",
       "      <td>Zh</td>\n",
       "      <td>MesoNH_LIMH</td>\n",
       "      <td>NaN</td>\n",
       "      <td>NaN</td>\n",
       "      <td>NaN</td>\n",
       "      <td>NaN</td>\n",
       "      <td>NaN</td>\n",
       "    </tr>\n",
       "    <tr>\n",
       "      <th>117</th>\n",
       "      <td>13500</td>\n",
       "      <td>Zh</td>\n",
       "      <td>MesoNH_LIMH</td>\n",
       "      <td>NaN</td>\n",
       "      <td>NaN</td>\n",
       "      <td>NaN</td>\n",
       "      <td>NaN</td>\n",
       "      <td>NaN</td>\n",
       "    </tr>\n",
       "    <tr>\n",
       "      <th>118</th>\n",
       "      <td>14000</td>\n",
       "      <td>Zh</td>\n",
       "      <td>MesoNH_LIMH</td>\n",
       "      <td>NaN</td>\n",
       "      <td>NaN</td>\n",
       "      <td>NaN</td>\n",
       "      <td>NaN</td>\n",
       "      <td>NaN</td>\n",
       "    </tr>\n",
       "    <tr>\n",
       "      <th>119</th>\n",
       "      <td>14500</td>\n",
       "      <td>Zh</td>\n",
       "      <td>MesoNH_LIMH</td>\n",
       "      <td>NaN</td>\n",
       "      <td>NaN</td>\n",
       "      <td>NaN</td>\n",
       "      <td>NaN</td>\n",
       "      <td>NaN</td>\n",
       "    </tr>\n",
       "  </tbody>\n",
       "</table>\n",
       "<p>120 rows × 8 columns</p>\n",
       "</div>"
      ],
      "text/plain": [
       "     altitude varname     dataType        Q5        Q25        Q50        Q75  \\\n",
       "0           0      Zh   Arome_ICE3  3.812265  15.714110  26.381033  34.424892   \n",
       "1         500      Zh   Arome_ICE3  3.475648  14.805388  25.841341  34.746984   \n",
       "2        1000      Zh   Arome_ICE3  3.500866  14.774945  25.692104  34.986061   \n",
       "3        1500      Zh   Arome_ICE3  3.575427  14.687407  25.409227  34.963732   \n",
       "4        2000      Zh   Arome_ICE3  3.888595  15.251649  25.615467  35.207497   \n",
       "..        ...     ...          ...       ...        ...        ...        ...   \n",
       "115     12500      Zh  MesoNH_LIMH       NaN        NaN        NaN        NaN   \n",
       "116     13000      Zh  MesoNH_LIMH       NaN        NaN        NaN        NaN   \n",
       "117     13500      Zh  MesoNH_LIMH       NaN        NaN        NaN        NaN   \n",
       "118     14000      Zh  MesoNH_LIMH       NaN        NaN        NaN        NaN   \n",
       "119     14500      Zh  MesoNH_LIMH       NaN        NaN        NaN        NaN   \n",
       "\n",
       "           Q95  \n",
       "0    42.660191  \n",
       "1    43.083604  \n",
       "2    43.210061  \n",
       "3    43.486061  \n",
       "4    43.863414  \n",
       "..         ...  \n",
       "115        NaN  \n",
       "116        NaN  \n",
       "117        NaN  \n",
       "118        NaN  \n",
       "119        NaN  \n",
       "\n",
       "[120 rows x 8 columns]"
      ]
     },
     "execution_count": 56,
     "metadata": {},
     "output_type": "execute_result"
    }
   ],
   "source": [
    "data_path = \"/home/cnrm_other/ge/mrmp/augros/WKD/CORSE/\"\n",
    "#df = pd.read_pickle(f'{final_data}stats_cell_core.pkl')\n",
    "#df = pd.read_pickle(f'{final_data}stats_cell_envelop.pkl')\n",
    "#df = pd.read_pickle(f'{final_data}stats_ZDR_columns.pkl')\n",
    "df = pd.read_pickle(f'{data_path}stats_Zh.pkl')\n",
    "df"
   ]
  },
  {
   "cell_type": "code",
   "execution_count": 57,
   "metadata": {},
   "outputs": [],
   "source": [
    "def plot_CFAD(ax,df,var,dataType,color='tab:blue',add_extreme=False,add_Q25_Q75_interval=True):\n",
    "    subdf = df[(df.varname==var)&(df.dataType==dataType)]\n",
    "    alti = subdf.altitude\n",
    "    #plot, = ax.plot(subdf.Q50,alti,label=f'{var} Q50',c=color)\n",
    "    plot, = ax.plot(subdf.Q50,alti,label=f'{dataType}',c=color)\n",
    "    if add_Q25_Q75_interval :\n",
    "        #plot = ax.fill_betweenx(alti,subdf.Q25,subdf.Q75,alpha=0.2,label='[Q25-Q75]',color=color)\n",
    "        ax.plot(subdf.Q25,alti,c=color,ls=':',lw=1.5) # commenter cette ligne pour ne pas l'afficher\n",
    "        plot = ax.plot(subdf.Q75,alti,c=color,ls=':',lw=1.5)\n",
    "    if add_extreme :\n",
    "        ax.plot(subdf.Q5,alti,c=color,ls='--',lw=1) # commenter cette ligne pour ne pas l'afficher\n",
    "        plot = ax.plot(subdf.Q95,alti,c=color,ls=':',lw=1.5)\n",
    "    return plot"
   ]
  },
  {
   "cell_type": "code",
   "execution_count": 58,
   "metadata": {},
   "outputs": [],
   "source": [
    "def legend_hydrometeor(figure,h,l):\n",
    "    legend_name = {'rr':'rain','ii':'ice','ss':'snow','gg':'graupel','wg':'wet graupel','cc':'cloud water'}\n",
    "    labels = []\n",
    "    for lgd_elmt in l :\n",
    "        if lgd_elmt[0:2] in legend_name.keys():\n",
    "            labels += [legend_name[lgd_elmt[0:2]]]\n",
    "        else :\n",
    "            labels += [lgd_elmt]\n",
    "    figure.legend(handles=h,\n",
    "               labels=labels,\n",
    "               bbox_to_anchor=(1, 0.5),loc='center left',ncol=1,fontsize=12)"
   ]
  },
  {
   "cell_type": "markdown",
   "metadata": {
    "tags": []
   },
   "source": [
    "### Variable polarimétrique"
   ]
  },
  {
   "cell_type": "code",
   "execution_count": 59,
   "metadata": {},
   "outputs": [
    {
     "data": {
      "text/plain": [
       "(30,)"
      ]
     },
     "execution_count": 59,
     "metadata": {},
     "output_type": "execute_result"
    }
   ],
   "source": [
    "var = 'Zh' ; title = '$Z_{H}$' ; unit = 'dBZ' ; dataType='MesoNH_ICE3'\n",
    "subdf = df[(df.varname==var)&(df.dataType==dataType)]\n",
    "#subdf\n",
    "subdf.Q50\n",
    "subdf.Q50.shape\n",
    "#altiList\n",
    "#plot, = ax.plot(subdf.Q50,altiList,label=f'{var} Q50',c=\"black\")\n",
    "#altiList\n",
    "#len(altiList)\n",
    "#subdf.altitude.shape"
   ]
  },
  {
   "cell_type": "code",
   "execution_count": 60,
   "metadata": {},
   "outputs": [
    {
     "name": "stderr",
     "output_type": "stream",
     "text": [
      "/opt/softs/anaconda3/lib/python3.7/site-packages/matplotlib/cbook/__init__.py:1402: FutureWarning: Support for multi-dimensional indexing (e.g. `obj[:, None]`) is deprecated and will be removed in a future version.  Convert to a numpy array before indexing instead.\n",
      "  x[:, None]\n",
      "/opt/softs/anaconda3/lib/python3.7/site-packages/matplotlib/axes/_base.py:276: FutureWarning: Support for multi-dimensional indexing (e.g. `obj[:, None]`) is deprecated and will be removed in a future version.  Convert to a numpy array before indexing instead.\n",
      "  x = x[:, np.newaxis]\n",
      "/opt/softs/anaconda3/lib/python3.7/site-packages/matplotlib/axes/_base.py:278: FutureWarning: Support for multi-dimensional indexing (e.g. `obj[:, None]`) is deprecated and will be removed in a future version.  Convert to a numpy array before indexing instead.\n",
      "  y = y[:, np.newaxis]\n"
     ]
    },
    {
     "data": {
      "image/png": "[encoded data removed]",
      "text/plain": [
       "<Figure size 576x360 with 1 Axes>"
      ]
     },
     "metadata": {
      "needs_background": "light"
     },
     "output_type": "display_data"
    }
   ],
   "source": [
    "# TOUTES LES SIMULATIONS\n",
    "fig, ax = plt.subplots(1,1,figsize=(8,5))\n",
    "\n",
    "altiList = [int(x) for x in np.arange(0,15.5e3,500)]\n",
    "\n",
    "#plot_CFAD(ax,df,var,'OBS','tab:blue')\n",
    "plot_CFAD(ax,df,var,'MesoNH_ICE3','tab:red')\n",
    "plot_CFAD(ax,df,var,'Arome_ICE3','tab:gray')\n",
    "plot_CFAD(ax,df,var,'MesoNH_LIMA','tab:blue')\n",
    "plot_CFAD(ax,df,var,'MesoNH_LIMH','tab:green')\n",
    "\n",
    "ax.legend(loc='upper right',ncol=1,prop={'size':13})\n",
    "\n",
    "ax.grid(ls='--',lw=0.5)\n",
    "ax.set_xlim(0,40)\n",
    "#ax.set_yticks(np.arange(0,16e3,1e3),labels=np.arange(0,16,1),fontsize=13)\n",
    "#ax.set_xticks(np.arange(20,60,5),labels=np.arange(20,60,5),fontsize=13)\n",
    "ax.set_ylim(0, 12e3)\n",
    "ax.set_ylabel('Height (km)',fontsize=14)\n",
    "ax.set_xlabel(f'{title} ({unit})',fontsize=14)\n",
    "ax.set_title(f'Distribution of {title} values',fontsize=15,y=1.02)\n",
    "plt.savefig(data_path+f'/cfad_{var}',bbox_inches='tight',dpi=100)"
   ]
  },
  {
   "cell_type": "markdown",
   "metadata": {
    "tags": []
   },
   "source": [
    "### Contenus en hydrométéores (uniquement pour les modèles)"
   ]
  },
  {
   "cell_type": "code",
   "execution_count": 7,
   "metadata": {},
   "outputs": [
    {
     "ename": "NameError",
     "evalue": "name 'np' is not defined",
     "output_type": "error",
     "traceback": [
      "\u001b[0;31m---------------------------------------------------------------------------\u001b[0m",
      "\u001b[0;31mNameError\u001b[0m                                 Traceback (most recent call last)",
      "\u001b[0;32m<ipython-input-7-aa02fec9b697>\u001b[0m in \u001b[0;36m<module>\u001b[0;34m\u001b[0m\n\u001b[0;32m----> 1\u001b[0;31m \u001b[0maltiList\u001b[0m \u001b[0;34m=\u001b[0m \u001b[0;34m[\u001b[0m\u001b[0mint\u001b[0m\u001b[0;34m(\u001b[0m\u001b[0mx\u001b[0m\u001b[0;34m)\u001b[0m \u001b[0;32mfor\u001b[0m \u001b[0mx\u001b[0m \u001b[0;32min\u001b[0m \u001b[0mnp\u001b[0m\u001b[0;34m.\u001b[0m\u001b[0marange\u001b[0m\u001b[0;34m(\u001b[0m\u001b[0;36m0\u001b[0m\u001b[0;34m,\u001b[0m\u001b[0;36m15e3\u001b[0m\u001b[0;34m,\u001b[0m\u001b[0;36m500\u001b[0m\u001b[0;34m)\u001b[0m\u001b[0;34m]\u001b[0m\u001b[0;34m\u001b[0m\u001b[0;34m\u001b[0m\u001b[0m\n\u001b[0m\u001b[1;32m      2\u001b[0m \u001b[0mfig\u001b[0m\u001b[0;34m,\u001b[0m \u001b[0maxs\u001b[0m \u001b[0;34m=\u001b[0m \u001b[0mplt\u001b[0m\u001b[0;34m.\u001b[0m\u001b[0msubplots\u001b[0m\u001b[0;34m(\u001b[0m\u001b[0;36m1\u001b[0m\u001b[0;34m,\u001b[0m\u001b[0;36m2\u001b[0m\u001b[0;34m,\u001b[0m\u001b[0mfigsize\u001b[0m\u001b[0;34m=\u001b[0m\u001b[0;34m(\u001b[0m\u001b[0;36m10\u001b[0m\u001b[0;34m,\u001b[0m\u001b[0;36m6\u001b[0m\u001b[0;34m)\u001b[0m\u001b[0;34m,\u001b[0m\u001b[0msharey\u001b[0m\u001b[0;34m=\u001b[0m\u001b[0;32mTrue\u001b[0m\u001b[0;34m,\u001b[0m\u001b[0mlayout\u001b[0m\u001b[0;34m=\u001b[0m\u001b[0;34m'constrained'\u001b[0m\u001b[0;34m)\u001b[0m\u001b[0;34m\u001b[0m\u001b[0;34m\u001b[0m\u001b[0m\n\u001b[1;32m      3\u001b[0m \u001b[0;34m\u001b[0m\u001b[0m\n\u001b[1;32m      4\u001b[0m \u001b[0;32mfor\u001b[0m \u001b[0mindex\u001b[0m\u001b[0;34m,\u001b[0m\u001b[0mmodel\u001b[0m \u001b[0;32min\u001b[0m \u001b[0menumerate\u001b[0m\u001b[0;34m(\u001b[0m\u001b[0;34m[\u001b[0m\u001b[0;34m'ICE3'\u001b[0m\u001b[0;34m,\u001b[0m\u001b[0;34m'LIMASG'\u001b[0m\u001b[0;34m]\u001b[0m\u001b[0;34m)\u001b[0m\u001b[0;34m:\u001b[0m\u001b[0;34m\u001b[0m\u001b[0;34m\u001b[0m\u001b[0m\n\u001b[1;32m      5\u001b[0m     \u001b[0mrr\u001b[0m \u001b[0;34m=\u001b[0m \u001b[0mplot_CFAD\u001b[0m\u001b[0;34m(\u001b[0m\u001b[0maxs\u001b[0m\u001b[0;34m[\u001b[0m\u001b[0mindex\u001b[0m\u001b[0;34m]\u001b[0m\u001b[0;34m,\u001b[0m\u001b[0mdf\u001b[0m\u001b[0;34m,\u001b[0m\u001b[0;34m'rr'\u001b[0m\u001b[0;34m,\u001b[0m\u001b[0mmodel\u001b[0m\u001b[0;34m,\u001b[0m\u001b[0;34m'tab:green'\u001b[0m\u001b[0;34m,\u001b[0m\u001b[0madd_extreme\u001b[0m\u001b[0;34m=\u001b[0m\u001b[0;32mFalse\u001b[0m\u001b[0;34m,\u001b[0m\u001b[0madd_Q25_Q75_interval\u001b[0m\u001b[0;34m=\u001b[0m\u001b[0;32mTrue\u001b[0m\u001b[0;34m)\u001b[0m\u001b[0;34m\u001b[0m\u001b[0;34m\u001b[0m\u001b[0m\n",
      "\u001b[0;31mNameError\u001b[0m: name 'np' is not defined"
     ]
    }
   ],
   "source": [
    "altiList = [int(x) for x in np.arange(0,15e3,500)]\n",
    "fig, axs = plt.subplots(1,2,figsize=(10,6),sharey=True,layout='constrained')\n",
    "\n",
    "for index,model in enumerate(['ICE3','LIMASG']):\n",
    "    rr = plot_CFAD(axs[index],df,'rr',model,'tab:green',add_extreme=False,add_Q25_Q75_interval=True)\n",
    "    ii = plot_CFAD(axs[index],df,'ii',model,'tab:blue',add_extreme=False,add_Q25_Q75_interval=False)\n",
    "    ss = plot_CFAD(axs[index],df,'ss',model,'tab:red',add_extreme=False,add_Q25_Q75_interval=False)\n",
    "    gg = plot_CFAD(axs[index],df,'gg',model,'tab:orange',add_extreme=False,add_Q25_Q75_interval=False)\n",
    "    wg = plot_CFAD(axs[index],df,'wg',model,'tab:purple',add_extreme=False,add_Q25_Q75_interval=True)\n",
    "    cc = plot_CFAD(axs[index],df,'cc',model,'tab:cyan',add_extreme=False,add_Q25_Q75_interval=False)\n",
    "    #axs[index].legend(handles=[rr,ii,ss,gg,wg,cc], labels=['rain','ice','snow','graupel','wet graupel','cloud water'])\n",
    "    axs[index].grid(ls='--',lw=0.5)\n",
    "    axs[index].set_xlim(0,6)\n",
    "    #axs[index].set_xscale('log')\n",
    "    axs[index].set_yticks(np.arange(0,16e3,1e3),labels=np.arange(0,16,1))\n",
    "    axs[index].set_ylim(0, 15e3)\n",
    "    axs[0].set_ylabel('Height (km)',fontsize=11)\n",
    "    axs[index].set_xlabel('Hydrometeor content ($g/m^{3}$)',fontsize=11)\n",
    "    axs[index].set_title(model)\n",
    "    h, l = axs[index].get_legend_handles_labels()\n",
    "legend_hydrometeor(fig,h,l)\n",
    "fig.suptitle(f'Distribution of hydrometeors content over 10 study cases inside ZDR columns',fontsize=13)\n",
    "plt.savefig(f'{out_repo_path}statistiques/CFAD_hydrometeor_contents_all_studyCases_zdr_columns',dpi=120, bbox_inches='tight')"
   ]
  },
  {
   "cell_type": "code",
   "execution_count": 8,
   "metadata": {
    "jupyter": {
     "source_hidden": true
    }
   },
   "outputs": [
    {
     "ename": "NameError",
     "evalue": "name 'np' is not defined",
     "output_type": "error",
     "traceback": [
      "\u001b[0;31m---------------------------------------------------------------------------\u001b[0m",
      "\u001b[0;31mNameError\u001b[0m                                 Traceback (most recent call last)",
      "\u001b[0;32m<ipython-input-8-0c4f4988ce41>\u001b[0m in \u001b[0;36m<module>\u001b[0;34m\u001b[0m\n\u001b[0;32m----> 1\u001b[0;31m \u001b[0maltiList\u001b[0m \u001b[0;34m=\u001b[0m \u001b[0;34m[\u001b[0m\u001b[0mint\u001b[0m\u001b[0;34m(\u001b[0m\u001b[0mx\u001b[0m\u001b[0;34m)\u001b[0m \u001b[0;32mfor\u001b[0m \u001b[0mx\u001b[0m \u001b[0;32min\u001b[0m \u001b[0mnp\u001b[0m\u001b[0;34m.\u001b[0m\u001b[0marange\u001b[0m\u001b[0;34m(\u001b[0m\u001b[0;36m0\u001b[0m\u001b[0;34m,\u001b[0m\u001b[0;36m15e3\u001b[0m\u001b[0;34m,\u001b[0m\u001b[0;36m500\u001b[0m\u001b[0;34m)\u001b[0m\u001b[0;34m]\u001b[0m\u001b[0;34m\u001b[0m\u001b[0;34m\u001b[0m\u001b[0m\n\u001b[0m\u001b[1;32m      2\u001b[0m \u001b[0mfig\u001b[0m\u001b[0;34m,\u001b[0m \u001b[0maxs\u001b[0m \u001b[0;34m=\u001b[0m \u001b[0mplt\u001b[0m\u001b[0;34m.\u001b[0m\u001b[0msubplots\u001b[0m\u001b[0;34m(\u001b[0m\u001b[0;36m1\u001b[0m\u001b[0;34m,\u001b[0m\u001b[0;36m2\u001b[0m\u001b[0;34m,\u001b[0m\u001b[0mfigsize\u001b[0m\u001b[0;34m=\u001b[0m\u001b[0;34m(\u001b[0m\u001b[0;36m10\u001b[0m\u001b[0;34m,\u001b[0m\u001b[0;36m6\u001b[0m\u001b[0;34m)\u001b[0m\u001b[0;34m,\u001b[0m\u001b[0msharey\u001b[0m\u001b[0;34m=\u001b[0m\u001b[0;32mTrue\u001b[0m\u001b[0;34m,\u001b[0m\u001b[0mlayout\u001b[0m\u001b[0;34m=\u001b[0m\u001b[0;34m'constrained'\u001b[0m\u001b[0;34m)\u001b[0m\u001b[0;34m\u001b[0m\u001b[0;34m\u001b[0m\u001b[0m\n\u001b[1;32m      3\u001b[0m \u001b[0;34m\u001b[0m\u001b[0m\n\u001b[1;32m      4\u001b[0m \u001b[0;32mfor\u001b[0m \u001b[0mindex\u001b[0m\u001b[0;34m,\u001b[0m\u001b[0mmodel\u001b[0m \u001b[0;32min\u001b[0m \u001b[0menumerate\u001b[0m\u001b[0;34m(\u001b[0m\u001b[0;34m[\u001b[0m\u001b[0;34m'ICE3'\u001b[0m\u001b[0;34m,\u001b[0m\u001b[0;34m'LIMASG'\u001b[0m\u001b[0;34m]\u001b[0m\u001b[0;34m)\u001b[0m\u001b[0;34m:\u001b[0m\u001b[0;34m\u001b[0m\u001b[0;34m\u001b[0m\u001b[0m\n\u001b[1;32m      5\u001b[0m     \u001b[0mrr\u001b[0m \u001b[0;34m=\u001b[0m \u001b[0mplot_CFAD\u001b[0m\u001b[0;34m(\u001b[0m\u001b[0maxs\u001b[0m\u001b[0;34m[\u001b[0m\u001b[0mindex\u001b[0m\u001b[0;34m]\u001b[0m\u001b[0;34m,\u001b[0m\u001b[0mdf\u001b[0m\u001b[0;34m,\u001b[0m\u001b[0;34m'rr'\u001b[0m\u001b[0;34m,\u001b[0m\u001b[0mmodel\u001b[0m\u001b[0;34m,\u001b[0m\u001b[0;34m'tab:green'\u001b[0m\u001b[0;34m,\u001b[0m\u001b[0madd_extreme\u001b[0m\u001b[0;34m=\u001b[0m\u001b[0;32mFalse\u001b[0m\u001b[0;34m,\u001b[0m\u001b[0madd_Q25_Q75_interval\u001b[0m\u001b[0;34m=\u001b[0m\u001b[0;32mTrue\u001b[0m\u001b[0;34m)\u001b[0m\u001b[0;34m\u001b[0m\u001b[0;34m\u001b[0m\u001b[0m\n",
      "\u001b[0;31mNameError\u001b[0m: name 'np' is not defined"
     ]
    }
   ],
   "source": [
    "altiList = [int(x) for x in np.arange(0,15e3,500)]\n",
    "fig, axs = plt.subplots(1,2,figsize=(10,6),sharey=True,layout='constrained')\n",
    "\n",
    "for index,model in enumerate(['ICE3','LIMASG']):\n",
    "    rr = plot_CFAD(axs[index],df,'rr',model,'tab:green',add_extreme=False,add_Q25_Q75_interval=True)\n",
    "    ii = plot_CFAD(axs[index],df,'ii',model,'tab:blue',add_extreme=False,add_Q25_Q75_interval=False)\n",
    "    ss = plot_CFAD(axs[index],df,'ss',model,'tab:red',add_extreme=False,add_Q25_Q75_interval=False)\n",
    "    gg = plot_CFAD(axs[index],df,'gg',model,'tab:orange',add_extreme=False,add_Q25_Q75_interval=False)\n",
    "    wg = plot_CFAD(axs[index],df,'wg',model,'tab:purple',add_extreme=True,add_Q25_Q75_interval=True)\n",
    "    cc = plot_CFAD(axs[index],df,'cc',model,'tab:cyan',add_extreme=True,add_Q25_Q75_interval=False)\n",
    "    #axs[index].legend(handles=[rr,ii,ss,gg,wg,cc], labels=['rain','ice','snow','graupel','wet graupel','cloud water'])\n",
    "    axs[index].grid(ls='--',lw=0.5)\n",
    "    axs[index].set_xlim(0,2)\n",
    "    #axs[index].set_xscale('log')\n",
    "    axs[index].set_yticks(np.arange(0,16e3,1e3),labels=np.arange(0,16,1))\n",
    "    axs[index].set_ylim(0, 15e3)\n",
    "    axs[0].set_ylabel('Height (km)',fontsize=11)\n",
    "    axs[index].set_xlabel('Hydrometeor content ($g/m^{3}$)',fontsize=11)\n",
    "    axs[index].set_title(model)\n",
    "    h, l = axs[index].get_legend_handles_labels()\n",
    "legend_hydrometeor(fig,h,l)\n",
    "fig.suptitle(f'Distribution of hydrometeors content over 10 study cases inside storm cells',fontsize=13)\n",
    "#plt.savefig(f'{out_repo_path}statistiques/CFAD_hydrometeor_contents_all_studyCases_cell_envelop',dpi=150, bbox_inches='tight')"
   ]
  },
  {
   "cell_type": "code",
   "execution_count": 9,
   "metadata": {},
   "outputs": [
    {
     "ename": "NameError",
     "evalue": "name 'np' is not defined",
     "output_type": "error",
     "traceback": [
      "\u001b[0;31m---------------------------------------------------------------------------\u001b[0m",
      "\u001b[0;31mNameError\u001b[0m                                 Traceback (most recent call last)",
      "\u001b[0;32m<ipython-input-9-9754061edf0a>\u001b[0m in \u001b[0;36m<module>\u001b[0;34m\u001b[0m\n\u001b[0;32m----> 1\u001b[0;31m \u001b[0maltiList\u001b[0m \u001b[0;34m=\u001b[0m \u001b[0;34m[\u001b[0m\u001b[0mint\u001b[0m\u001b[0;34m(\u001b[0m\u001b[0mx\u001b[0m\u001b[0;34m)\u001b[0m \u001b[0;32mfor\u001b[0m \u001b[0mx\u001b[0m \u001b[0;32min\u001b[0m \u001b[0mnp\u001b[0m\u001b[0;34m.\u001b[0m\u001b[0marange\u001b[0m\u001b[0;34m(\u001b[0m\u001b[0;36m0\u001b[0m\u001b[0;34m,\u001b[0m\u001b[0;36m15e3\u001b[0m\u001b[0;34m,\u001b[0m\u001b[0;36m500\u001b[0m\u001b[0;34m)\u001b[0m\u001b[0;34m]\u001b[0m\u001b[0;34m\u001b[0m\u001b[0;34m\u001b[0m\u001b[0m\n\u001b[0m\u001b[1;32m      2\u001b[0m \u001b[0mfig\u001b[0m\u001b[0;34m,\u001b[0m \u001b[0maxs\u001b[0m \u001b[0;34m=\u001b[0m \u001b[0mplt\u001b[0m\u001b[0;34m.\u001b[0m\u001b[0msubplots\u001b[0m\u001b[0;34m(\u001b[0m\u001b[0;36m1\u001b[0m\u001b[0;34m,\u001b[0m\u001b[0;36m2\u001b[0m\u001b[0;34m,\u001b[0m\u001b[0mfigsize\u001b[0m\u001b[0;34m=\u001b[0m\u001b[0;34m(\u001b[0m\u001b[0;36m10\u001b[0m\u001b[0;34m,\u001b[0m\u001b[0;36m6\u001b[0m\u001b[0;34m)\u001b[0m\u001b[0;34m,\u001b[0m\u001b[0msharey\u001b[0m\u001b[0;34m=\u001b[0m\u001b[0;32mTrue\u001b[0m\u001b[0;34m,\u001b[0m\u001b[0mlayout\u001b[0m\u001b[0;34m=\u001b[0m\u001b[0;34m'constrained'\u001b[0m\u001b[0;34m)\u001b[0m\u001b[0;34m\u001b[0m\u001b[0;34m\u001b[0m\u001b[0m\n\u001b[1;32m      3\u001b[0m \u001b[0;34m\u001b[0m\u001b[0m\n\u001b[1;32m      4\u001b[0m \u001b[0;32mfor\u001b[0m \u001b[0mindex\u001b[0m\u001b[0;34m,\u001b[0m\u001b[0mmodel\u001b[0m \u001b[0;32min\u001b[0m \u001b[0menumerate\u001b[0m\u001b[0;34m(\u001b[0m\u001b[0;34m[\u001b[0m\u001b[0;34m'ICE3'\u001b[0m\u001b[0;34m,\u001b[0m\u001b[0;34m'LIMASG'\u001b[0m\u001b[0;34m]\u001b[0m\u001b[0;34m)\u001b[0m\u001b[0;34m:\u001b[0m\u001b[0;34m\u001b[0m\u001b[0;34m\u001b[0m\u001b[0m\n\u001b[1;32m      5\u001b[0m     \u001b[0mrr\u001b[0m \u001b[0;34m=\u001b[0m \u001b[0mplot_CFAD\u001b[0m\u001b[0;34m(\u001b[0m\u001b[0maxs\u001b[0m\u001b[0;34m[\u001b[0m\u001b[0mindex\u001b[0m\u001b[0;34m]\u001b[0m\u001b[0;34m,\u001b[0m\u001b[0mdf\u001b[0m\u001b[0;34m,\u001b[0m\u001b[0;34m'rr'\u001b[0m\u001b[0;34m,\u001b[0m\u001b[0mmodel\u001b[0m\u001b[0;34m,\u001b[0m\u001b[0;34m'tab:green'\u001b[0m\u001b[0;34m,\u001b[0m\u001b[0madd_extreme\u001b[0m\u001b[0;34m=\u001b[0m\u001b[0;32mTrue\u001b[0m\u001b[0;34m,\u001b[0m\u001b[0madd_Q25_Q75_interval\u001b[0m\u001b[0;34m=\u001b[0m\u001b[0;32mTrue\u001b[0m\u001b[0;34m)\u001b[0m\u001b[0;34m\u001b[0m\u001b[0;34m\u001b[0m\u001b[0m\n",
      "\u001b[0;31mNameError\u001b[0m: name 'np' is not defined"
     ]
    }
   ],
   "source": [
    "altiList = [int(x) for x in np.arange(0,15e3,500)]\n",
    "fig, axs = plt.subplots(1,2,figsize=(10,6),sharey=True,layout='constrained')\n",
    "\n",
    "for index,model in enumerate(['ICE3','LIMASG']):\n",
    "    rr = plot_CFAD(axs[index],df,'rr',model,'tab:green',add_extreme=True,add_Q25_Q75_interval=True)\n",
    "    ii = plot_CFAD(axs[index],df,'ii',model,'tab:blue',add_extreme=False,add_Q25_Q75_interval=False)\n",
    "    ss = plot_CFAD(axs[index],df,'ss',model,'tab:red',add_extreme=False,add_Q25_Q75_interval=False)\n",
    "    gg = plot_CFAD(axs[index],df,'gg',model,'tab:orange',add_extreme=False,add_Q25_Q75_interval=False)\n",
    "    wg = plot_CFAD(axs[index],df,'wg',model,'tab:purple',add_extreme=True,add_Q25_Q75_interval=True)\n",
    "    cc = plot_CFAD(axs[index],df,'cc',model,'tab:cyan',add_extreme=True,add_Q25_Q75_interval=False)\n",
    "    #axs[index].legend(handles=[rr,ii,ss,gg,wg,cc], labels=['rain','ice','snow','graupel','wet graupel','cloud water'])\n",
    "    axs[index].grid(ls='--',lw=0.5)\n",
    "    axs[index].set_xlim(0,3.5)\n",
    "    #axs[index].set_xscale('log')\n",
    "    axs[index].set_yticks(np.arange(0,16e3,1e3),labels=np.arange(0,16,1))\n",
    "    axs[index].set_ylim(0, 15e3)\n",
    "    axs[0].set_ylabel('Height (km)',fontsize=11)\n",
    "    axs[index].set_xlabel('Hydrometeor content ($g/m^{3}$)',fontsize=11)\n",
    "    axs[index].set_title(model)\n",
    "    h, l = axs[index].get_legend_handles_labels()\n",
    "legend_hydrometeor(fig,h,l)\n",
    "fig.suptitle(f'Distribution of hydrometeors content over 10 study cases inside storms cores',fontsize=13)\n",
    "#plt.savefig(f'{out_repo_path}statistiques/CFAD_hydrometeor_contents_all_studyCases_cell_core.png',dpi=150, bbox_inches='tight')"
   ]
  },
  {
   "cell_type": "code",
   "execution_count": null,
   "metadata": {},
   "outputs": [],
   "source": []
  },
  {
   "cell_type": "code",
   "execution_count": null,
   "metadata": {},
   "outputs": [],
   "source": []
  }
 ],
 "metadata": {
  "kernelspec": {
   "display_name": "Python 3",
   "language": "python",
   "name": "python3"
  },
  "language_info": {
   "codemirror_mode": {
    "name": "ipython",
    "version": 3
   },
   "file_extension": ".py",
   "mimetype": "text/x-python",
   "name": "python",
   "nbconvert_exporter": "python",
   "pygments_lexer": "ipython3",
   "version": "3.7.4"
  }
 },
 "nbformat": 4,
 "nbformat_minor": 5
}
